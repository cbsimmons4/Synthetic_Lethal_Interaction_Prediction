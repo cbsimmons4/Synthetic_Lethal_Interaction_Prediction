{
 "cells": [
  {
   "cell_type": "code",
   "execution_count": 8,
   "metadata": {},
   "outputs": [
    {
     "data": {
      "image/png": "[encoded data removed]",
      "text/plain": [
       "<Figure size 432x288 with 1 Axes>"
      ]
     },
     "metadata": {},
     "output_type": "display_data"
    }
   ],
   "source": [
    "# returns dictionary of names\n",
    "# to pairs of x,y coordinates\n",
    "\n",
    "def get_info_from_csv_lines(lines):\n",
    "    # I want a map from gene name to x,y pair\n",
    "    map_gene_xy = {}\n",
    "    i = -1\n",
    "    for line in lines:\n",
    "        i += 1\n",
    "        if (i != 0):\n",
    "            name, x, y = line.split(',')\n",
    "            pair_xy = [float(x), float(y)]\n",
    "            map_gene_xy[name] = pair_xy\n",
    "    return map_gene_xy\n",
    "\n",
    "# returns dictionary of names to list of pairs,\n",
    "# where each pair is the adjacency and its type\n",
    "\n",
    "def populate_adj_list_from_tsv_lines(lines):\n",
    "    # returns another map. The key is a node\n",
    "    # in the first column, which maps to a list\n",
    "    # of pairs. Each pair is the node to which\n",
    "    # the edge exists and its category\n",
    "    # 'SL', 'Non-SL', 'Inconclusive'\n",
    "    map_gene_adj = {}\n",
    "    i = -1\n",
    "    for line in lines:\n",
    "        i += 1\n",
    "        if (i != 0):\n",
    "            g1, g2, score, category = line.split('\\t') \n",
    "            if g1 in map_gene_adj:\n",
    "                pair = [g2, category]\n",
    "                if pair not in map_gene_adj[g1]:\n",
    "                    map_gene_adj[g1].append(pair)\n",
    "            else: # no key exists so start the list\n",
    "                map_gene_adj[g1] = [[g2, category]]\n",
    "    return map_gene_adj\n",
    "\n",
    "import matplotlib.pyplot as plt\n",
    "\n",
    "# Let's start getting files\n",
    "sc_csv_lines = [line.rstrip('\\n') for line in open('ScNodeVecs2.csv')]\n",
    "sc_tsv_edges_and_categories = [line.rstrip('\\n') for line in open('collins-sc-emap-gis-std.tsv')]\n",
    "\n",
    "gene_coordinate_map = get_info_from_csv_lines(sc_csv_lines)\n",
    "gene_edge_map = populate_adj_list_from_tsv_lines(sc_tsv_edges_and_categories)\n",
    "\n",
    "# plot points\n",
    "for gene in gene_coordinate_map:\n",
    "    x, y = gene_coordinate_map[gene]\n",
    "    # print('plotting (' + str(x) + ',' + str(y) + ')')\n",
    "    plt.scatter(x, y, s=0.25, c='#0000FF')\n",
    "    \n",
    "# plot edges\n",
    "# print('starting')\n",
    "i = 0\n",
    "for gene in gene_edge_map:\n",
    "    x1, y1 = gene_coordinate_map[gene]\n",
    "    adjacencies = gene_edge_map[gene]\n",
    "    for adj in adjacencies:\n",
    "        neighbor, category = adj\n",
    "        \n",
    "        i += 1\n",
    "        \n",
    "        x2, y2 = gene_coordinate_map[neighbor]\n",
    "        \n",
    "        if category == 'Inconclusive':\n",
    "            # print('edge ' + str(i) + ' inc')\n",
    "            plt.plot([x1, x2], [y1, y2], c='tab:gray', ls='solid')\n",
    "        elif category == 'Non-SL':\n",
    "            # print('edge ' + str(i) + ' NSL')\n",
    "            plt.plot([x1, x2], [y1, y2], c='tab:blue', ls='solid')\n",
    "        else: # category == 'SL'\n",
    "            # print('edge ' + str(i) + ' SL')\n",
    "            plt.plot([x1, x2], [y1, y2], c='tab:red', ls='solid')                \n",
    "                \n",
    "plt.axis([-0.3, 0.75, -1.95, -1.6])\n",
    "plt.show()"
   ]
  },
  {
   "cell_type": "code",
   "execution_count": null,
   "metadata": {},
   "outputs": [],
   "source": []
  }
 ],
 "metadata": {
  "kernelspec": {
   "display_name": "Python 3",
   "language": "python",
   "name": "python3"
  },
  "language_info": {
   "codemirror_mode": {
    "name": "ipython",
    "version": 3
   },
   "file_extension": ".py",
   "mimetype": "text/x-python",
   "name": "python",
   "nbconvert_exporter": "python",
   "pygments_lexer": "ipython3",
   "version": "3.6.5"
  }
 },
 "nbformat": 4,
 "nbformat_minor": 2
}
